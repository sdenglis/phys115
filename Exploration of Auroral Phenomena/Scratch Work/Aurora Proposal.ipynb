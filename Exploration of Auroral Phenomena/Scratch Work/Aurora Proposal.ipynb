{
 "cells": [
  {
   "cell_type": "markdown",
   "metadata": {},
   "source": [
    "https://iopscience.iop.org/article/10.1088/0004-637X/778/2/87/pdf"
   ]
  },
  {
   "cell_type": "markdown",
   "metadata": {},
   "source": [
    "https://en.wikipedia.org/wiki/Mean_free_path"
   ]
  },
  {
   "cell_type": "markdown",
   "metadata": {},
   "source": [
    "https://dawn.uconn.edu/#"
   ]
  },
  {
   "cell_type": "markdown",
   "metadata": {},
   "source": [
    "https://matplotlib.org/stable/gallery/mplot3d/surface3d_radial.html"
   ]
  },
  {
   "cell_type": "markdown",
   "metadata": {},
   "source": [
    "https://flothesof.github.io/charged-particle-trajectories-E-and-B-fields.html"
   ]
  },
  {
   "cell_type": "markdown",
   "metadata": {},
   "source": []
  },
  {
   "cell_type": "markdown",
   "metadata": {},
   "source": [
    "## Auroral rays: propagation & interaction of charged particles with a planetary magnetosphere\n",
    "------\n",
    "------\n",
    "------"
   ]
  },
  {
   "cell_type": "code",
   "execution_count": 2,
   "metadata": {},
   "outputs": [
    {
     "data": {
      "text/html": [
       "<iframe width=\"560\" height=\"315\"      src=\"https://www.youtube.com/embed/Rj0Tj8dnrYw?rel=0&amp;controls=0&amp;showinfo=0\"      frameborder=\"0\" allowfullscreen></iframe>"
      ],
      "text/plain": [
       "<IPython.core.display.HTML object>"
      ]
     },
     "execution_count": 2,
     "metadata": {},
     "output_type": "execute_result"
    }
   ],
   "source": [
    "from IPython.display import HTML\n",
    "# Code snippet - Christopher Lovell\n",
    "HTML('<iframe width=\"560\" height=\"315\" \\\n",
    "     src=\"https://www.youtube.com/embed/Rj0Tj8dnrYw?rel=0&amp;controls=0&amp;showinfo=0\" \\\n",
    "     frameborder=\"0\" allowfullscreen></iframe>')"
   ]
  },
  {
   "cell_type": "markdown",
   "metadata": {},
   "source": [
    "------\n",
    "------\n",
    "------"
   ]
  },
  {
   "cell_type": "markdown",
   "metadata": {},
   "source": [
    "https://pwg.gsfc.nasa.gov/Education/aurora.htm"
   ]
  },
  {
   "cell_type": "markdown",
   "metadata": {},
   "source": [
    "- Bright ones fade while dim ones brighten. Very much akin to the flames in a fireplace!\n",
    "- Some auroras are deep red, some infrared, etc. Depending on atmospheric conditions and composition.\n",
    "- The direction of these rays are related to the **magnetism** of the Earth."
   ]
  },
  {
   "cell_type": "markdown",
   "metadata": {},
   "source": [
    "Locations about 1500 miles from the magnetic pole are where aurora effects are seen most frequently! Further or nearer and these events become more rare. Fairbanks, Alaska, resides at the edge of this \"auroral zone\", great for observation."
   ]
  },
  {
   "cell_type": "markdown",
   "metadata": {},
   "source": [
    "The Sun can possibly create \"stormy conditions\" in which it sends out a dense cloud of hot gas: the arrival of this disturbs the Earth's magnetic environment, producing what a so-called \"magnetic storm\".\\\n",
    "These magnetic storms expand the effective auroral zone to locations more distant from the magnetic poles.\n"
   ]
  },
  {
   "cell_type": "markdown",
   "metadata": {},
   "source": [
    "### Interaction with atmospheric molecules:"
   ]
  },
  {
   "cell_type": "markdown",
   "metadata": {},
   "source": [
    "When electrons collide with atoms in the upper fringes of the atmosphere, they impart an amount of energy to excite those atoms; subsequently, they emit energy in the form of photons upon returning to their ground state."
   ]
  },
  {
   "cell_type": "markdown",
   "metadata": {},
   "source": [
    "What and where do these electrons come from?\\\n",
    "Well, sunlight can separate electrons from atoms of the gas found in space (or in the upper atmosphere), into negative free electrons or positive \"ions\"."
   ]
  },
  {
   "cell_type": "markdown",
   "metadata": {},
   "source": [
    "Different, unique spectra of colors are emitted depending of the characteristic color for each element. The light-show seems to brighten and fade smoothly (delay of order 1 second)."
   ]
  },
  {
   "cell_type": "markdown",
   "metadata": {},
   "source": [
    "### Magnetic field lines"
   ]
  },
  {
   "cell_type": "markdown",
   "metadata": {},
   "source": [
    "The magnetic field lines of the Earth guide electrons of the aurora to come down into the auroral zone.\\\n",
    "Between 1895 and 1907, Norwegian physicist Kristian Birkeland studied this behavior inside of glass vaccum chamber with a mounted, spherical magnet."
   ]
  },
  {
   "cell_type": "markdown",
   "metadata": {},
   "source": [
    "### Solar wind and incident particles"
   ]
  },
  {
   "cell_type": "markdown",
   "metadata": {},
   "source": [
    "The aurora contains beams of electrons moving at ~ 0.1c! This energy needs to come from somewhere.\\\n",
    "The corona of the sun is *incredibly* hot, reaching temperatures nearly 2 million Fahrenheit or a million centigrade. Temperatures like this will tear electrons off atoms, turning the corona of our central star into a soup of free ions and electrons (ie. plasma)."
   ]
  },
  {
   "cell_type": "markdown",
   "metadata": {},
   "source": [
    "As the sun is constantly changing and wanting to stay in hydrostatic equilibrium, there are occasional bursts of material which the sun's gravitational force can no longer keep captured. Bits and blobs of plasma are hurtled throughout the solar system, reaching as far as past Pluto's orbit."
   ]
  },
  {
   "cell_type": "markdown",
   "metadata": {},
   "source": [
    "Thanks to fundamental E&M concepts, we are aware of the interplay between charge and magnetic field; furthermore, we know that in the presence of a magnetic field, charges will experience a force as in accordance with $$F=q(E+v \\times B)$$."
   ]
  },
  {
   "cell_type": "markdown",
   "metadata": {},
   "source": [
    "The Earth's magnetosphere diverts the flow of plasma around our planet. However, some blobs still manage to penetrate, transmitting some amount of electric energy to the magnetosphere."
   ]
  },
  {
   "cell_type": "markdown",
   "metadata": {},
   "source": [
    "### Radiation belt & mirroring"
   ]
  },
  {
   "cell_type": "markdown",
   "metadata": {},
   "source": [
    "Without mirroring, the Earth might have neither aurora nor radiation belts.\\\n",
    "The radiation belt was discovered in 1958 under James Van Allen's team at the University of Iowa during the launch of many satellites & instrumentation in the era of the \"space race\". A permanent belt of trapped ions, surrounding the Earth, turned out to be protons--atomic nuclei of hydrogen atoms stripped of their single electron."
   ]
  },
  {
   "cell_type": "markdown",
   "metadata": {},
   "source": [
    "The ends of the field lines also experience an extremely strong magnetic force; so much, in fact, that trapped electrons and ions avoid ever reaching the atmosphere. Instead of getting absorbed, they get \"mirrored\" back and forth (for years in some cases)."
   ]
  },
  {
   "cell_type": "markdown",
   "metadata": {},
   "source": [
    "The electrons must overcome the \"mirror force\" of the strong magnetic field surrounding Earth, and they do so with a concentrtation of voltage."
   ]
  },
  {
   "cell_type": "markdown",
   "metadata": {},
   "source": [
    "This is confirmed by satellite confirmation that those electrons are only sped up near Earth (in the last 2-5000 miles before they hit), where the mirror force is strongest and subsequently the built up voltage as well."
   ]
  },
  {
   "cell_type": "markdown",
   "metadata": {},
   "source": [
    "### Auroral Substorms"
   ]
  },
  {
   "cell_type": "markdown",
   "metadata": {},
   "source": [
    "A very bright and violent type of auroral arc is associated with the magnetoitail behaving as a slingshot. The solar wind pulls its field lines and stretches them to their limit, finally releasing and bounce back with great effect."
   ]
  },
  {
   "cell_type": "markdown",
   "metadata": {},
   "source": [
    "### Sun spots"
   ]
  },
  {
   "cell_type": "markdown",
   "metadata": {},
   "source": [
    "Sunspots turn out to be intensely magnetic! Associated with them are oubursts of magnetic energy, which fling clouds of plasma even faster than solar wind (in all directions).\\\n",
    "\"Coronal Mass Ejections\", big blobs of gas ejected from the sun can agitate the magnetosphere in a magnetic storm."
   ]
  },
  {
   "cell_type": "markdown",
   "metadata": {},
   "source": [
    "### Artificial aurora\n"
   ]
  },
  {
   "cell_type": "markdown",
   "metadata": {},
   "source": [
    "Humanity has even attempted to recreate this natural phenomena with the detonation of nuclear bombs in the high atmosphere. This went on with the Soviet Union & the US until missions were called to a halt; they messed too much with the environment and airborne machinery.\\\n",
    "Wow, this section is pretty wild background."
   ]
  },
  {
   "cell_type": "markdown",
   "metadata": {},
   "source": [
    "### Other planets"
   ]
  },
  {
   "cell_type": "markdown",
   "metadata": {},
   "source": [
    "All the giant planets--Saturn, Jupiter, Uranus, and Neptune are magnetic & have radiation belts."
   ]
  },
  {
   "cell_type": "markdown",
   "metadata": {},
   "source": [
    "Jupiter is quite the unique example, with a field 20,000 times stronger than Earth's! Its aurora is associated with electric currents. Jupiter's four main moons contribute to the electric currents and field lines. Each moon leaves a unique signal identifiable in the auroral patterns at Jupiter's poles."
   ]
  },
  {
   "cell_type": "markdown",
   "metadata": {},
   "source": [
    "------\n",
    "------\n",
    "------"
   ]
  },
  {
   "cell_type": "markdown",
   "metadata": {},
   "source": [
    "http://hyperphysics.phy-astr.gsu.edu/hbase/atmos/aurora.html"
   ]
  },
  {
   "cell_type": "markdown",
   "metadata": {},
   "source": [
    "### Aurora"
   ]
  },
  {
   "cell_type": "markdown",
   "metadata": {},
   "source": [
    "Energetic charged particles enter the Earth's atmosphere from solar wind. They tend to channel towards the poles due to the Earth's magnetosphere, causing them to spiral around the magnetic field lines. These particles are energetic enough to ionize air molecules, leading to a considerable amount elevating to excited states. When they transition back to their ground states, light is emitted from oxygen, nitrogen, and other compounds found in the Earth's atmospheric composition."
   ]
  },
  {
   "cell_type": "markdown",
   "metadata": {},
   "source": [
    "An example of colors that may be visible can be found by observing the nitrogen spectrum.\\\n",
    "http://hyperphysics.phy-astr.gsu.edu/hbase/quantum/atspect.html#c2"
   ]
  },
  {
   "attachments": {
    "Jupiteraurora.jpg": {
     "image/jpeg": "[encoded data removed]"
    }
   },
   "cell_type": "markdown",
   "metadata": {},
   "source": [
    "![Jupiteraurora.jpg](attachment:Jupiteraurora.jpg)"
   ]
  },
  {
   "cell_type": "markdown",
   "metadata": {},
   "source": [
    "The glowing display seen here at Jupiter's poles comes from its interaction of charged particles with the planet's magnetic field (not just of Jupiter but also the surrounding moons). Jupiter's aurora show the distinct magnetic footprints of three of Jupiter's larger moons: Io, Europa, and Ganymeded. The extreme left path is from Io, the one near center is Ganymeded, and the path below & to the right of Ganymede is Europa's fingerprint."
   ]
  },
  {
   "cell_type": "markdown",
   "metadata": {},
   "source": [
    "### Coronal mass ejections (CMEs)"
   ]
  },
  {
   "cell_type": "markdown",
   "metadata": {},
   "source": [
    "There have been over five major \"halo\" coronal mass ejections over the period of Nov. 4-8, 2004.\n",
    "NASA launched the Imager for Magnetopause-to-Aurora Global Exploration (IMAGE) satellite in 2000. Highly successful five-year mission.\\\n",
    "Without the shield the magnetic field provides, the upper atmosphere would evaporate into space under the influence of solar winds. IMAGE has shown scientists what sort of changes the field undertakes as it diverts solar winds from Earth."
   ]
  },
  {
   "cell_type": "markdown",
   "metadata": {},
   "source": [
    "------\n",
    "------\n",
    "------"
   ]
  },
  {
   "cell_type": "markdown",
   "metadata": {},
   "source": [
    "http://aurora-exeideas.blogspot.com/2010/10/introduction_9920.html"
   ]
  },
  {
   "cell_type": "markdown",
   "metadata": {},
   "source": [
    "### Introduction"
   ]
  },
  {
   "cell_type": "markdown",
   "metadata": {},
   "source": [
    "Ususally observed at night, typically occur in the ionosphere.\n",
    "Aurora is a luminous glow of the upper atmosphere caused by energetic particles that enter the atmosphere from above.\n",
    "Aurora is the colelctive name given to the photons emitted by atoms, molecules and ions that have been excited by energetic charged particles (principally electrons) travelling along magnetic field lines into the Earth's upper atmosphere. Aurora results from the interaction of the solar wind with the Earth's magnetic field."
   ]
  },
  {
   "cell_type": "markdown",
   "metadata": {},
   "source": [
    "\"The Aurora is mesmerizing, dynamic displays of light that appear in the Antarctic skies in winter. They are, in effect, nature's light show; visual poetry penned from the quantum leaps of atmospheric gases. As those who have witnessed the Aurora can attest, few sights can equal the magic and mystery of these luminous sheets of colour undulating in the frigid air of the Antarctic winter.\" --Menal Salim"
   ]
  },
  {
   "cell_type": "markdown",
   "metadata": {},
   "source": [
    "### Auroral mechanism"
   ]
  },
  {
   "cell_type": "markdown",
   "metadata": {},
   "source": [
    "Solar wind interacts with a magnetic field to produce large electrical currents. These currents cause the atmospheric gases to glow akin to the glow of a fluorescent tube."
   ]
  },
  {
   "cell_type": "markdown",
   "metadata": {},
   "source": [
    "Aurora are also produced in the UV spectrum, but cannot be faithfully observed from the ground due to atmospheric seeing effects."
   ]
  },
  {
   "cell_type": "markdown",
   "metadata": {},
   "source": [
    "It took nearly 7 decades for a mathematical model of these currents to be developed (Birkeland currents).\\\n",
    "Negatively charged electrons move in a direction *opposite* to the current flow; they stream down on the night side of the auroral oval, upwards on the day side. Some protons are involved, which move *in the direction* of the current, opposite of the electrons."
   ]
  },
  {
   "cell_type": "markdown",
   "metadata": {},
   "source": [
    "\"Slinky\" effect in Earth's magnetic field lines: when wiggled, it undulates in waves that travel down the field lines at speeds up to 25 million miles per hour. These waves pass energy to electrons, accelerating them along the B field lines toward Earth?"
   ]
  },
  {
   "cell_type": "markdown",
   "metadata": {},
   "source": [
    "### Origin of Aurora"
   ]
  },
  {
   "cell_type": "markdown",
   "metadata": {},
   "source": [
    "1.49 million kilometers away from Earth rests the sun.\n",
    "Energetic particles from the sun are swept into space along with the hot solar wind. This wind rushes towards Earth at speeds ranging from 300 to 1000+ km/s (with it, the solar magnetic field)."
   ]
  },
  {
   "cell_type": "markdown",
   "metadata": {},
   "source": [
    "The Solar wind and magnetosphere are two electrically conducting fluids with the conditions for \"dynamo action\" being satisfied."
   ]
  },
  {
   "cell_type": "markdown",
   "metadata": {},
   "source": [
    "The ionosphere is an ohmic conductor: currents require a driving voltage, which some dynamo mechanism can supply."
   ]
  },
  {
   "cell_type": "markdown",
   "metadata": {},
   "source": [
    "Furthermore, the convergence of magnetic field lines near Earth creates a \"mirror\" effect that turns back most of the down-flowing electrons, inhibiting current-carrying capacity."
   ]
  },
  {
   "cell_type": "markdown",
   "metadata": {},
   "source": [
    "### Physics of Aurora"
   ]
  },
  {
   "cell_type": "markdown",
   "metadata": {},
   "source": [
    "\"On Earth, the energetic particles that make aurora come from the geospace environment, the magnetosphere. These energetic particles are mostly electrons, but protons also make aurora. The electrons travel along magnetic field lines. The Earth's magnetic field looks like that of a dipole magnet where the field lines are coming out and going into the Earth near the poles. The auroral electrons are thus guided to the high latitude atmosphere.\""
   ]
  },
  {
   "cell_type": "markdown",
   "metadata": {},
   "source": [
    "\"As they penetrate into the upper atmosphere, the chance of colliding with an atom or molecule increases the deeper they go. Once a collision takes place, the atom or molecule takes some of the energy of the energetic particle and stores it as internal energy while the electron goes on with a reduced speed. The process of storing energy in a molecule or atom is called \"exciting\" the atom. An excited atom or molecule can return to the non-excited state (ground state) by sending off a photon, i.e. by making light.\""
   ]
  },
  {
   "cell_type": "markdown",
   "metadata": {},
   "source": [
    "\"Oxygen is responsible for two primary auroral colours: green-yellow wavelength of 557.7 nanometres (nm) is most common, while the deep red 630.0 nm light is seen less frequently.\n",
    "\n",
    "·         Nitrogen in an ionized state will produce blue light, while neutral nitrogen molecules create purplish-red auroral colours. For example, nitrogen is often responsible for the purplish-red lower borders and rippled edges of the aurora.\""
   ]
  },
  {
   "cell_type": "markdown",
   "metadata": {},
   "source": [
    "### Types of Aurora"
   ]
  },
  {
   "cell_type": "markdown",
   "metadata": {},
   "source": [
    "Ø   DIFFUSE AURORA:\n",
    "Unlike the discrete aurora, which is due to the parallel acceleration of electrons down along the earth's magnetic field lines into the atmosphere, diffuse aurora \"dribbles\" in from the plasma sheet. This dribbling comes from wave-particle interactions that scatter electrons and give them velocities that are more parallel to the magnetic field line.\\\n",
    "This change of velocity will put the electrons in the loss cone in phase space and they will precipitate into the atmosphere, exciting atoms and molecules to produce the diffuse aurora. The quantitative study of the wave-particle interaction with different types of waves and with electrons having different energies is a complicated matter.\n"
   ]
  },
  {
   "cell_type": "markdown",
   "metadata": {},
   "source": [
    "Ø   DISCRETE AURORA:\n",
    "\n",
    "Discrete auroras are the most intense auroral types, where field-aligned acceleration plays an important role, forming the so-called inverted-V precipitation.\n",
    "\n",
    "Discrete auroral types include\n",
    "Quiet auroral arcs\n",
    "Spirals, curls, and folds\n",
    "Auroral bulge\n",
    "Omega bands"
   ]
  },
  {
   "cell_type": "markdown",
   "metadata": {},
   "source": [
    "### Colours of Aurora"
   ]
  },
  {
   "cell_type": "markdown",
   "metadata": {},
   "source": [
    "At very high altitudes there is atomic oxygen in addition to normal air, which is made up of molecular nitrogen and molecular oxygen. The energetic electrons in aurora are strong enough to occasionally split the molecules of the air into nitrogen and oxygen atoms. The photons that come out of aurora have therefore the signature colours of nitrogen and oxygen molecules and atoms. Oxygen atoms, for example, strongly emit photons in two typical colours: green and red. The red is a brownish red that is at the limit of what the human eye can see, and although the red auroral emission is often very bright, we can barely see it."
   ]
  },
  {
   "cell_type": "markdown",
   "metadata": {},
   "source": [
    "Anti-auroras stem from negatively charged particles getting sucked out from the Earth's ionosphere along adjoining magnetic field lines."
   ]
  },
  {
   "cell_type": "markdown",
   "metadata": {},
   "source": [
    "------\n",
    "------\n",
    "------"
   ]
  },
  {
   "cell_type": "markdown",
   "metadata": {},
   "source": [
    "http://www.physics.usyd.edu.au/~cairns/teaching/lecture17/node1.html"
   ]
  },
  {
   "cell_type": "markdown",
   "metadata": {},
   "source": [
    "https://folk.ntnu.no/anderhja/aurora/aurora.pdf"
   ]
  },
  {
   "cell_type": "markdown",
   "metadata": {},
   "source": [
    "http://cuca.cs.uwaterloo.ca/resources/docs/aurora-dynamics.pdf"
   ]
  },
  {
   "cell_type": "markdown",
   "metadata": {},
   "source": [
    "https://www2.mps.mpg.de/solar-system-school/lectures/numerical_methods/otto.pdf"
   ]
  },
  {
   "cell_type": "code",
   "execution_count": null,
   "metadata": {},
   "outputs": [],
   "source": []
  }
 ],
 "metadata": {
  "kernelspec": {
   "display_name": "Python 3",
   "language": "python",
   "name": "python3"
  },
  "language_info": {
   "codemirror_mode": {
    "name": "ipython",
    "version": 3
   },
   "file_extension": ".py",
   "mimetype": "text/x-python",
   "name": "python",
   "nbconvert_exporter": "python",
   "pygments_lexer": "ipython3",
   "version": "3.7.7"
  }
 },
 "nbformat": 4,
 "nbformat_minor": 4
}
